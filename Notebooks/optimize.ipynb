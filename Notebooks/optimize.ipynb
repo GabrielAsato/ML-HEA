{
 "cells": [
  {
   "cell_type": "markdown",
   "id": "7847fa7f-8c13-4264-8fa1-b53bc8c576d7",
   "metadata": {},
   "source": [
    "### Como obter o maior valor de Resistência específica a partir de dados de composição química?\n",
    "\n",
    "usar o minimize para obter os melhores parâmetros (composição química)."
   ]
  },
  {
   "cell_type": "code",
   "execution_count": 1,
   "id": "3b61f46b-e718-4fc8-89a9-19ee4ec70b6c",
   "metadata": {},
   "outputs": [],
   "source": [
    "import pandas as pd\n",
    "import numpy as np\n",
    "import matplotlib.pyplot as plt\n",
    "import seaborn as sns\n",
    "import warnings\n",
    "warnings.filterwarnings(\"ignore\")"
   ]
  },
  {
   "cell_type": "code",
   "execution_count": 2,
   "id": "280560bc-5c3f-4041-b2b2-95546519e1fd",
   "metadata": {},
   "outputs": [],
   "source": [
    "import tensorflow\n",
    "from tensorflow import keras"
   ]
  },
  {
   "cell_type": "code",
   "execution_count": 3,
   "id": "d9073f3a-0d59-430f-a8cf-5df76115d367",
   "metadata": {},
   "outputs": [
    {
     "data": {
      "text/plain": [
       "Index(['Alloy', 'Nome tratado', 'Co', 'Fe', 'Ni', 'Si', 'Al', 'Cr', 'Mo', 'Nb',\n",
       "       'Ti', 'C', 'V', 'Zr', 'Mn', 'Cu', 'B', 'Y', 'Sn', 'Li', 'Mg', 'Zn',\n",
       "       'Sc', 'Hf', 'Ta', 'W', 'atomic radius (δ) [%]',\n",
       "       'Electronegativity (Δχ)', 'Valence Electron Concentration (VEC)',\n",
       "       'Ω parameter', 'Entalpia de mix (dHmix) [kJ/mol]',\n",
       "       'Entropia de mix (dSmix) [J/K.mol]', 'Melting temperature (Tm) [K]',\n",
       "       'Elastic-strain energy criterion (dHel) [kJ/mol]', 'Type of phases',\n",
       "       'As cast/Homogenized right after casting', 'Cold/Hot Working',\n",
       "       'Heat treatment', 'temperatura de pico [°C]', 'density ROM (g/cm3)',\n",
       "       'HV', 'YS (MPa)', 'Specific_strength (MPa.cm3/g)'],\n",
       "      dtype='object')"
      ]
     },
     "execution_count": 3,
     "metadata": {},
     "output_type": "execute_result"
    }
   ],
   "source": [
    "df = pd.read_csv(\"full_mec.csv\")\n",
    "df.columns"
   ]
  },
  {
   "cell_type": "markdown",
   "id": "4e3f1ca4-a604-48f6-ba3d-d9c717381f62",
   "metadata": {},
   "source": [
    "#### Dropar features\n",
    "Manter somente composição química e alguns processos experimentais"
   ]
  },
  {
   "cell_type": "code",
   "execution_count": 4,
   "id": "9562654f-6c8f-416d-9592-07235fa6662a",
   "metadata": {},
   "outputs": [],
   "source": [
    "df.drop([\"Alloy\", \"Nome tratado\", 'Type of phases', 'atomic radius (δ) [%]',\n",
    "       'Electronegativity (Δχ)', 'Valence Electron Concentration (VEC)',\n",
    "       'Ω parameter', 'Entalpia de mix (dHmix) [kJ/mol]',\n",
    "       'Entropia de mix (dSmix) [J/K.mol]', 'Melting temperature (Tm) [K]',\n",
    "       'Elastic-strain energy criterion (dHel) [kJ/mol]', 'density ROM (g/cm3)',\n",
    "       'HV', 'YS (MPa)','temperatura de pico [°C]'], axis= 1, inplace= True)\n",
    "df.dropna(inplace= True)"
   ]
  },
  {
   "cell_type": "code",
   "execution_count": 5,
   "id": "1770f594-fe18-4846-90fa-1fb852d977b2",
   "metadata": {},
   "outputs": [
    {
     "name": "stdout",
     "output_type": "stream",
     "text": [
      "<class 'pandas.core.frame.DataFrame'>\n",
      "Int64Index: 790 entries, 0 to 1216\n",
      "Data columns (total 28 columns):\n",
      " #   Column                                   Non-Null Count  Dtype  \n",
      "---  ------                                   --------------  -----  \n",
      " 0   Co                                       790 non-null    float64\n",
      " 1   Fe                                       790 non-null    float64\n",
      " 2   Ni                                       790 non-null    float64\n",
      " 3   Si                                       790 non-null    float64\n",
      " 4   Al                                       790 non-null    float64\n",
      " 5   Cr                                       790 non-null    float64\n",
      " 6   Mo                                       790 non-null    float64\n",
      " 7   Nb                                       790 non-null    float64\n",
      " 8   Ti                                       790 non-null    float64\n",
      " 9   C                                        790 non-null    float64\n",
      " 10  V                                        790 non-null    float64\n",
      " 11  Zr                                       790 non-null    float64\n",
      " 12  Mn                                       790 non-null    float64\n",
      " 13  Cu                                       790 non-null    float64\n",
      " 14  B                                        790 non-null    float64\n",
      " 15  Y                                        790 non-null    float64\n",
      " 16  Sn                                       790 non-null    float64\n",
      " 17  Li                                       790 non-null    float64\n",
      " 18  Mg                                       790 non-null    float64\n",
      " 19  Zn                                       790 non-null    float64\n",
      " 20  Sc                                       790 non-null    float64\n",
      " 21  Hf                                       790 non-null    float64\n",
      " 22  Ta                                       790 non-null    float64\n",
      " 23  W                                        790 non-null    float64\n",
      " 24  As cast/Homogenized right after casting  790 non-null    object \n",
      " 25  Cold/Hot Working                         790 non-null    object \n",
      " 26  Heat treatment                           790 non-null    object \n",
      " 27  Specific_strength (MPa.cm3/g)            790 non-null    float64\n",
      "dtypes: float64(25), object(3)\n",
      "memory usage: 179.0+ KB\n"
     ]
    }
   ],
   "source": [
    "df.info()"
   ]
  },
  {
   "cell_type": "code",
   "execution_count": 6,
   "id": "f761c495-5eb5-420c-8a71-81146216e1dd",
   "metadata": {},
   "outputs": [],
   "source": [
    "X = df.drop(\"Specific_strength (MPa.cm3/g)\", axis= 1)\n",
    "y = df[\"Specific_strength (MPa.cm3/g)\"].copy()"
   ]
  },
  {
   "cell_type": "code",
   "execution_count": 75,
   "id": "be7de348-1597-453a-a133-9cd3f5576511",
   "metadata": {},
   "outputs": [],
   "source": [
    "# Split\n",
    "from sklearn.model_selection import train_test_split\n",
    "\n",
    "X_train_full, X_test, y_train_full, y_test = train_test_split(X, y, test_size= 0.2)"
   ]
  },
  {
   "cell_type": "code",
   "execution_count": 76,
   "id": "1e690014-6b97-4aa3-adac-96890837699f",
   "metadata": {},
   "outputs": [],
   "source": [
    "# Preprocessamento\n",
    "from sklearn.compose import ColumnTransformer\n",
    "from sklearn.preprocessing import StandardScaler, OneHotEncoder\n",
    "\n",
    "# Separar dados categóricos de numéricos\n",
    "cat_att = X.select_dtypes(\"object\").columns\n",
    "num_att = X.select_dtypes(\"number\").columns\n",
    "\n",
    "# Pipeline\n",
    "full_pipeline = ColumnTransformer([(\"cat\", OneHotEncoder(handle_unknown= \"ignore\"), cat_att),\n",
    "                                   (\"num\", StandardScaler(), num_att)])\n",
    "\n",
    "# Preprocessing\n",
    "X_prep_test = full_pipeline.fit_transform(X_test)\n",
    "X_prep_train_full = full_pipeline.fit_transform(X_train_full)"
   ]
  },
  {
   "cell_type": "code",
   "execution_count": 77,
   "id": "baa746ef-a885-4531-9f3f-c1148a9af32a",
   "metadata": {},
   "outputs": [],
   "source": [
    "# Modelo\n",
    "input_ = keras.layers.Input(shape= X_prep_train_full.shape[1:])\n",
    "hidden = keras.layers.Dense(300, activation= \"sigmoid\")(input_)\n",
    "output = keras.layers.Dense(1)(hidden)\n",
    "model = keras.Model(inputs= input_, outputs= output)"
   ]
  },
  {
   "cell_type": "code",
   "execution_count": 78,
   "id": "b292b8f6-67e5-4e96-acdc-4204f1685985",
   "metadata": {},
   "outputs": [],
   "source": [
    "# Compile\n",
    "optimizer = keras.optimizers.Adam(learning_rate= 0.01)\n",
    "model.compile(optimizer= optimizer, loss= \"mse\", metrics= \"mse\")"
   ]
  },
  {
   "cell_type": "code",
   "execution_count": 79,
   "id": "a4051214-230c-4366-8d4a-ebab37bcedd7",
   "metadata": {},
   "outputs": [
    {
     "name": "stdout",
     "output_type": "stream",
     "text": [
      "Fold 1\n"
     ]
    },
    {
     "data": {
      "image/png": "[encoded data removed]",
      "text/plain": [
       "<Figure size 720x432 with 1 Axes>"
      ]
     },
     "metadata": {
      "needs_background": "light"
     },
     "output_type": "display_data"
    },
    {
     "name": "stdout",
     "output_type": "stream",
     "text": [
      "4/4 [==============================] - 0s 2ms/step - loss: 2624.8879 - mse: 2624.8879\n",
      "Fold 2\n"
     ]
    },
    {
     "data": {
      "image/png": "[encoded data removed]",
      "text/plain": [
       "<Figure size 720x432 with 1 Axes>"
      ]
     },
     "metadata": {
      "needs_background": "light"
     },
     "output_type": "display_data"
    },
    {
     "name": "stdout",
     "output_type": "stream",
     "text": [
      "4/4 [==============================] - 0s 2ms/step - loss: 1829.0549 - mse: 1829.0549\n",
      "Fold 3\n"
     ]
    },
    {
     "data": {
      "image/png": "[encoded data removed]",
      "text/plain": [
       "<Figure size 720x432 with 1 Axes>"
      ]
     },
     "metadata": {
      "needs_background": "light"
     },
     "output_type": "display_data"
    },
    {
     "name": "stdout",
     "output_type": "stream",
     "text": [
      "4/4 [==============================] - 0s 2ms/step - loss: 2521.7622 - mse: 2521.7622\n",
      "Fold 4\n"
     ]
    },
    {
     "data": {
      "image/png": "[encoded data removed]",
      "text/plain": [
       "<Figure size 720x432 with 1 Axes>"
      ]
     },
     "metadata": {
      "needs_background": "light"
     },
     "output_type": "display_data"
    },
    {
     "name": "stdout",
     "output_type": "stream",
     "text": [
      "4/4 [==============================] - 0s 2ms/step - loss: 1283.1072 - mse: 1283.1072\n",
      "Fold 5\n"
     ]
    },
    {
     "data": {
      "image/png": "[encoded data removed]",
      "text/plain": [
       "<Figure size 720x432 with 1 Axes>"
      ]
     },
     "metadata": {
      "needs_background": "light"
     },
     "output_type": "display_data"
    },
    {
     "name": "stdout",
     "output_type": "stream",
     "text": [
      "4/4 [==============================] - 0s 2ms/step - loss: 1773.3240 - mse: 1773.3240\n"
     ]
    }
   ],
   "source": [
    "# cross validation\n",
    "from sklearn.model_selection import KFold\n",
    "\n",
    "# 5 fold\n",
    "kf = KFold(n_splits= 5, shuffle= True)\n",
    "\n",
    "# callbacks\n",
    "es = keras.callbacks.EarlyStopping(patience= 20)\n",
    "\n",
    "# Reset index\n",
    "X_train_full_index = X_train_full.reset_index(drop= True)\n",
    "y_train_full_index = y_train_full.reset_index(drop= True)\n",
    "\n",
    "# Armazenar mse\n",
    "rmse_list = []\n",
    "\n",
    "# Contagem de folds\n",
    "i = 1\n",
    "for train_index, val_index in kf.split(X_train_full_index):\n",
    "    # 1 fold de cada vez\n",
    "    X_train, X_val = X_train_full_index.iloc[train_index], X_train_full_index.iloc[val_index]\n",
    "    y_train, y_val = y_train_full_index.iloc[train_index], y_train_full_index.iloc[val_index]\n",
    "    \n",
    "    # Preprocessar os dados de input\n",
    "    X_prep_train = full_pipeline.fit_transform(X_train)\n",
    "    X_prep_val = full_pipeline.fit_transform(X_val)\n",
    "    \n",
    "    # treinar modelo\n",
    "    print(f\"Fold {i}\")\n",
    "    history = model.fit(X_prep_train, y_train, epochs= 300, callbacks= es, validation_data = [X_prep_val, y_val], verbose = 0)\n",
    "    \n",
    "    # Gráfico\n",
    "    pd.DataFrame(history.history).apply(lambda x: np.sqrt(x)).plot(figsize= (10,6))\n",
    "    plt.ylim(20,140)\n",
    "    plt.show()\n",
    "    \n",
    "    # Avaliar com os dados de validação\n",
    "    _, mse = model.evaluate(X_prep_val, y_val)\n",
    "    rmse_list.append(np.sqrt(mse))\n",
    "    \n",
    "    i+= 1"
   ]
  },
  {
   "cell_type": "code",
   "execution_count": 80,
   "id": "897f953a-6423-4599-833b-30d745aef597",
   "metadata": {},
   "outputs": [
    {
     "name": "stdout",
     "output_type": "stream",
     "text": [
      "[51.23366021916768, 42.76745177866721, 50.21715052679961, 35.82048544805577, 42.110853406329525]\n",
      "44.43 ± 5.69\n"
     ]
    }
   ],
   "source": [
    "# RMSE\n",
    "print(rmse_list)\n",
    "print(f\"{round(np.mean(rmse_list),2)} \\u00b1 {round(np.std(rmse_list),2)}\")"
   ]
  },
  {
   "cell_type": "code",
   "execution_count": 81,
   "id": "ff087632-4311-499b-9081-73306605a5cb",
   "metadata": {},
   "outputs": [
    {
     "name": "stdout",
     "output_type": "stream",
     "text": [
      "5/5 [==============================] - 0s 1ms/step - loss: 2076.0347 - mse: 2076.0347\n"
     ]
    },
    {
     "data": {
      "text/plain": [
       "array([45.56352344, 45.56352344])"
      ]
     },
     "execution_count": 81,
     "metadata": {},
     "output_type": "execute_result"
    }
   ],
   "source": [
    "# Evaluate\n",
    "np.sqrt(model.evaluate(X_prep_test, y_test))"
   ]
  },
  {
   "cell_type": "code",
   "execution_count": 82,
   "id": "f4e02272-ff60-4a5f-868a-2ddca31cf20f",
   "metadata": {},
   "outputs": [
    {
     "name": "stdout",
     "output_type": "stream",
     "text": [
      "5/5 [==============================] - 0s 2ms/step\n"
     ]
    },
    {
     "data": {
      "text/html": [
       "<div>\n",
       "<style scoped>\n",
       "    .dataframe tbody tr th:only-of-type {\n",
       "        vertical-align: middle;\n",
       "    }\n",
       "\n",
       "    .dataframe tbody tr th {\n",
       "        vertical-align: top;\n",
       "    }\n",
       "\n",
       "    .dataframe thead th {\n",
       "        text-align: right;\n",
       "    }\n",
       "</style>\n",
       "<table border=\"1\" class=\"dataframe\">\n",
       "  <thead>\n",
       "    <tr style=\"text-align: right;\">\n",
       "      <th></th>\n",
       "      <th>y_pred</th>\n",
       "      <th>y_test</th>\n",
       "    </tr>\n",
       "  </thead>\n",
       "  <tbody>\n",
       "    <tr>\n",
       "      <th>1033</th>\n",
       "      <td>52.458427</td>\n",
       "      <td>31.184194</td>\n",
       "    </tr>\n",
       "    <tr>\n",
       "      <th>656</th>\n",
       "      <td>73.823502</td>\n",
       "      <td>157.922173</td>\n",
       "    </tr>\n",
       "    <tr>\n",
       "      <th>305</th>\n",
       "      <td>143.857742</td>\n",
       "      <td>155.379224</td>\n",
       "    </tr>\n",
       "    <tr>\n",
       "      <th>1045</th>\n",
       "      <td>177.611115</td>\n",
       "      <td>48.893695</td>\n",
       "    </tr>\n",
       "    <tr>\n",
       "      <th>928</th>\n",
       "      <td>127.117104</td>\n",
       "      <td>183.783238</td>\n",
       "    </tr>\n",
       "    <tr>\n",
       "      <th>765</th>\n",
       "      <td>221.136459</td>\n",
       "      <td>195.287679</td>\n",
       "    </tr>\n",
       "    <tr>\n",
       "      <th>310</th>\n",
       "      <td>114.800911</td>\n",
       "      <td>199.372534</td>\n",
       "    </tr>\n",
       "    <tr>\n",
       "      <th>684</th>\n",
       "      <td>65.651215</td>\n",
       "      <td>142.941524</td>\n",
       "    </tr>\n",
       "    <tr>\n",
       "      <th>494</th>\n",
       "      <td>38.868076</td>\n",
       "      <td>28.603405</td>\n",
       "    </tr>\n",
       "    <tr>\n",
       "      <th>602</th>\n",
       "      <td>134.471176</td>\n",
       "      <td>147.128144</td>\n",
       "    </tr>\n",
       "  </tbody>\n",
       "</table>\n",
       "</div>"
      ],
      "text/plain": [
       "          y_pred      y_test\n",
       "1033   52.458427   31.184194\n",
       "656    73.823502  157.922173\n",
       "305   143.857742  155.379224\n",
       "1045  177.611115   48.893695\n",
       "928   127.117104  183.783238\n",
       "765   221.136459  195.287679\n",
       "310   114.800911  199.372534\n",
       "684    65.651215  142.941524\n",
       "494    38.868076   28.603405\n",
       "602   134.471176  147.128144"
      ]
     },
     "execution_count": 82,
     "metadata": {},
     "output_type": "execute_result"
    }
   ],
   "source": [
    "y_pred = model.predict(X_prep_test)\n",
    "pd.DataFrame({\"y_pred\": y_pred[0:10].flatten(), \"y_test\": y_test[0:10]})"
   ]
  },
  {
   "cell_type": "markdown",
   "id": "9f58101a-6ed6-4b70-bc82-208194d0c99f",
   "metadata": {},
   "source": [
    "````python\n",
    "model.save(\"NN_CV5_mapping_model.h5\")\n",
    "````"
   ]
  },
  {
   "cell_type": "markdown",
   "id": "31f6d627-7808-4549-a117-6a8454186a37",
   "metadata": {},
   "source": [
    "````python\n",
    "model_saved = keras.models.load_model(\"NN_CV5_mapping_model.h5\")\n",
    "````"
   ]
  },
  {
   "cell_type": "code",
   "execution_count": 83,
   "id": "d6d4606a-e977-49df-b78f-4a9064f9a840",
   "metadata": {},
   "outputs": [],
   "source": [
    "features = full_pipeline.get_feature_names_out(X.columns)\n",
    "feat = pd.DataFrame({\"feat\": features})\n",
    "elementos = ['Co', 'Fe', 'Ni', 'Si', 'Al', 'Cr', 'Mo', 'Nb', 'Ti', 'C', 'V', 'Zr', 'Mn', 'Cu', 'B', 'Y', 'Sn', 'Li', 'Mg', 'Zn', 'Sc', 'Hf', 'Ta', 'W']"
   ]
  },
  {
   "cell_type": "code",
   "execution_count": 100,
   "id": "01591397-c8fd-4850-88be-f505caf927b8",
   "metadata": {},
   "outputs": [
    {
     "name": "stdout",
     "output_type": "stream",
     "text": [
      "1/1 [==============================] - 0s 18ms/step\n",
      "1/1 [==============================] - 0s 15ms/step\n",
      "1/1 [==============================] - 0s 15ms/step\n",
      "1/1 [==============================] - 0s 15ms/step\n",
      "1/1 [==============================] - 0s 16ms/step\n",
      "1/1 [==============================] - 0s 16ms/step\n",
      "1/1 [==============================] - 0s 14ms/step\n",
      "1/1 [==============================] - 0s 14ms/step\n",
      "1/1 [==============================] - 0s 15ms/step\n",
      "1/1 [==============================] - 0s 15ms/step\n",
      "1/1 [==============================] - 0s 15ms/step\n",
      "1/1 [==============================] - 0s 15ms/step\n",
      "1/1 [==============================] - 0s 14ms/step\n",
      "1/1 [==============================] - 0s 14ms/step\n",
      "1/1 [==============================] - 0s 14ms/step\n",
      "1/1 [==============================] - 0s 15ms/step\n",
      "1/1 [==============================] - 0s 15ms/step\n",
      "1/1 [==============================] - 0s 15ms/step\n",
      "1/1 [==============================] - 0s 16ms/step\n",
      "1/1 [==============================] - 0s 15ms/step\n",
      "1/1 [==============================] - 0s 15ms/step\n",
      "1/1 [==============================] - 0s 15ms/step\n",
      "1/1 [==============================] - 0s 17ms/step\n",
      "1/1 [==============================] - 0s 14ms/step\n",
      "1/1 [==============================] - 0s 16ms/step\n",
      "1/1 [==============================] - 0s 15ms/step\n",
      "1/1 [==============================] - 0s 17ms/step\n",
      "1/1 [==============================] - 0s 16ms/step\n",
      "1/1 [==============================] - 0s 15ms/step\n",
      "1/1 [==============================] - 0s 16ms/step\n",
      "1/1 [==============================] - 0s 16ms/step\n",
      "1/1 [==============================] - 0s 15ms/step\n",
      "Composição ótima: [1.         0.         0.         0.         1.         0.\n",
      " 1.         0.2        0.3        0.2        0.2        0.2\n",
      " 0.         0.00392784 0.         0.         0.         0.\n",
      " 0.         0.         0.         0.         0.         0.\n",
      " 0.         0.         0.         0.         0.         0.\n",
      " 0.        ]\n",
      "Valor máximo previsto de Resistência Específica: 171.7104034423828\n"
     ]
    }
   ],
   "source": [
    "from scipy.optimize import minimize, differential_evolution\n",
    "\n",
    "# Limites\n",
    "limites = [(0, 0)]*len(features) # iniciar todos os limitantes para 0\n",
    "limites[0] = (1, 1) # As cast\n",
    "limites[1] = (0, 0) # Homogenized\n",
    "limites[2] = (0, 0) # Cold Working\n",
    "limites[3] = (0, 0) # Hot Working\n",
    "limites[4] = (1, 1) # No Working\n",
    "limites[5] = (0, 0) # Heat Treated\n",
    "limites[6] = (1, 1) # No Heat Treatment\n",
    "# Elementos 7-30\n",
    "limites[7] = (0.2, 0.5) # Co\n",
    "limites[8] = (0.3, 0.5) # Fe\n",
    "limites[9] = (0.2, 0.5) # Ni\n",
    "limites[10] = (0.2, 0.5) # Si\n",
    "limites[11] = (0.2, 0.5) # Al\n",
    "limites[12] = (0, 0) # Cr\n",
    "limites[13] = (0, 0.5) # Mo\n",
    "limites[14] = (0, 0) # Nb\n",
    "limites[15] = (0, 0) # Ti\n",
    "limites[16] = (0, 0) # C\n",
    "limites[17] = (0, 0) # V\n",
    "limites[18] = (0, 0) # Zr\n",
    "limites[19] = (0, 0) # Mn\n",
    "limites[20] = (0, 0) # Cu\n",
    "limites[21] = (0, 0) # B\n",
    "limites[22] = (0, 0) # Y\n",
    "limites[23] = (0, 0) # Sn\n",
    "limites[24] = (0, 0) # Li\n",
    "limites[25] = (0, 0) # Mg\n",
    "limites[26] = (0, 0) # Zn\n",
    "limites[27] = (0, 0) # Sc\n",
    "limites[28] = (0, 0) # Hf\n",
    "limites[29] = (0, 0) # Ta\n",
    "limites[30] = (0, 0) # W\n",
    "\n",
    "# Constrains\n",
    "def constraint(x): \n",
    "    return np.isclose(np.sum(x[7:]),1) - 1\n",
    "\n",
    "# Função objetivo (negativa para maximização)\n",
    "def objective(x):\n",
    "    x = np.array(x).reshape(1, -1)  # Converter para formato esperado pelo modelo\n",
    "    return -model.predict(x)[0, 0]  # Negativo para maximizar\n",
    "\n",
    "# Ponto inicial (qualquer ponto dentro dos limites que soma 1)\n",
    "x0 = np.random.rand(len(limites))\n",
    "x0 = x0 / np.sum(x0)  # Normaliza para que a soma seja 1\n",
    "\n",
    "# Resolver o problema de otimização\n",
    "result = minimize(\n",
    "    objective, \n",
    "    x0, \n",
    "    method='SLSQP', \n",
    "    bounds=limites,\n",
    "    constraints={'type': 'eq', 'fun': constraint}\n",
    ")\n",
    "\n",
    "# Resultado final\n",
    "composicao_otima = result.x\n",
    "valor_maximo = -result.fun  # Reverter a negação\n",
    "\n",
    "print(\"Composição ótima:\", composicao_otima)\n",
    "print(\"Valor máximo previsto de Resistência Específica:\", valor_maximo)"
   ]
  },
  {
   "cell_type": "code",
   "execution_count": 101,
   "id": "204f8c80-57f2-42e9-9027-c851b704f913",
   "metadata": {},
   "outputs": [
    {
     "data": {
      "text/plain": [
       "1.1"
      ]
     },
     "execution_count": 101,
     "metadata": {},
     "output_type": "execute_result"
    }
   ],
   "source": [
    "input_ = np.round(result.x, 2)\n",
    "np.sum(input_[7:])\n",
    "# Esse valor precisa estar próximo de 1"
   ]
  },
  {
   "cell_type": "code",
   "execution_count": 102,
   "id": "5e6dc343-8573-4e48-8827-9d885235b820",
   "metadata": {},
   "outputs": [
    {
     "data": {
      "text/plain": [
       "array([18.18181818, 27.27272727, 18.18181818, 18.18181818, 18.18181818,\n",
       "        0.        ,  0.        ,  0.        ,  0.        ,  0.        ,\n",
       "        0.        ,  0.        ,  0.        ,  0.        ,  0.        ,\n",
       "        0.        ,  0.        ,  0.        ,  0.        ,  0.        ,\n",
       "        0.        ,  0.        ,  0.        ,  0.        ])"
      ]
     },
     "execution_count": 102,
     "metadata": {},
     "output_type": "execute_result"
    }
   ],
   "source": [
    "input_ = np.round(result.x, 2)\n",
    "np.sum(input_[7:])\n",
    "100*input_[7:]/np.sum(input_[7:])"
   ]
  },
  {
   "cell_type": "code",
   "execution_count": 103,
   "id": "71a82ef4-8ec7-4bb7-93e1-4983e6352d0e",
   "metadata": {},
   "outputs": [
    {
     "data": {
      "text/html": [
       "<div>\n",
       "<style scoped>\n",
       "    .dataframe tbody tr th:only-of-type {\n",
       "        vertical-align: middle;\n",
       "    }\n",
       "\n",
       "    .dataframe tbody tr th {\n",
       "        vertical-align: top;\n",
       "    }\n",
       "\n",
       "    .dataframe thead th {\n",
       "        text-align: right;\n",
       "    }\n",
       "</style>\n",
       "<table border=\"1\" class=\"dataframe\">\n",
       "  <thead>\n",
       "    <tr style=\"text-align: right;\">\n",
       "      <th></th>\n",
       "      <th>Elementos</th>\n",
       "      <th>Comp</th>\n",
       "    </tr>\n",
       "  </thead>\n",
       "  <tbody>\n",
       "    <tr>\n",
       "      <th>0</th>\n",
       "      <td>Co</td>\n",
       "      <td>18.181818</td>\n",
       "    </tr>\n",
       "    <tr>\n",
       "      <th>1</th>\n",
       "      <td>Fe</td>\n",
       "      <td>27.272727</td>\n",
       "    </tr>\n",
       "    <tr>\n",
       "      <th>2</th>\n",
       "      <td>Ni</td>\n",
       "      <td>18.181818</td>\n",
       "    </tr>\n",
       "    <tr>\n",
       "      <th>3</th>\n",
       "      <td>Si</td>\n",
       "      <td>18.181818</td>\n",
       "    </tr>\n",
       "    <tr>\n",
       "      <th>4</th>\n",
       "      <td>Al</td>\n",
       "      <td>18.181818</td>\n",
       "    </tr>\n",
       "    <tr>\n",
       "      <th>5</th>\n",
       "      <td>Cr</td>\n",
       "      <td>0.000000</td>\n",
       "    </tr>\n",
       "    <tr>\n",
       "      <th>6</th>\n",
       "      <td>Mo</td>\n",
       "      <td>0.000000</td>\n",
       "    </tr>\n",
       "    <tr>\n",
       "      <th>7</th>\n",
       "      <td>Nb</td>\n",
       "      <td>0.000000</td>\n",
       "    </tr>\n",
       "    <tr>\n",
       "      <th>8</th>\n",
       "      <td>Ti</td>\n",
       "      <td>0.000000</td>\n",
       "    </tr>\n",
       "    <tr>\n",
       "      <th>9</th>\n",
       "      <td>C</td>\n",
       "      <td>0.000000</td>\n",
       "    </tr>\n",
       "    <tr>\n",
       "      <th>10</th>\n",
       "      <td>V</td>\n",
       "      <td>0.000000</td>\n",
       "    </tr>\n",
       "    <tr>\n",
       "      <th>11</th>\n",
       "      <td>Zr</td>\n",
       "      <td>0.000000</td>\n",
       "    </tr>\n",
       "    <tr>\n",
       "      <th>12</th>\n",
       "      <td>Mn</td>\n",
       "      <td>0.000000</td>\n",
       "    </tr>\n",
       "    <tr>\n",
       "      <th>13</th>\n",
       "      <td>Cu</td>\n",
       "      <td>0.000000</td>\n",
       "    </tr>\n",
       "    <tr>\n",
       "      <th>14</th>\n",
       "      <td>B</td>\n",
       "      <td>0.000000</td>\n",
       "    </tr>\n",
       "    <tr>\n",
       "      <th>15</th>\n",
       "      <td>Y</td>\n",
       "      <td>0.000000</td>\n",
       "    </tr>\n",
       "    <tr>\n",
       "      <th>16</th>\n",
       "      <td>Sn</td>\n",
       "      <td>0.000000</td>\n",
       "    </tr>\n",
       "    <tr>\n",
       "      <th>17</th>\n",
       "      <td>Li</td>\n",
       "      <td>0.000000</td>\n",
       "    </tr>\n",
       "    <tr>\n",
       "      <th>18</th>\n",
       "      <td>Mg</td>\n",
       "      <td>0.000000</td>\n",
       "    </tr>\n",
       "    <tr>\n",
       "      <th>19</th>\n",
       "      <td>Zn</td>\n",
       "      <td>0.000000</td>\n",
       "    </tr>\n",
       "    <tr>\n",
       "      <th>20</th>\n",
       "      <td>Sc</td>\n",
       "      <td>0.000000</td>\n",
       "    </tr>\n",
       "    <tr>\n",
       "      <th>21</th>\n",
       "      <td>Hf</td>\n",
       "      <td>0.000000</td>\n",
       "    </tr>\n",
       "    <tr>\n",
       "      <th>22</th>\n",
       "      <td>Ta</td>\n",
       "      <td>0.000000</td>\n",
       "    </tr>\n",
       "    <tr>\n",
       "      <th>23</th>\n",
       "      <td>W</td>\n",
       "      <td>0.000000</td>\n",
       "    </tr>\n",
       "  </tbody>\n",
       "</table>\n",
       "</div>"
      ],
      "text/plain": [
       "   Elementos       Comp\n",
       "0         Co  18.181818\n",
       "1         Fe  27.272727\n",
       "2         Ni  18.181818\n",
       "3         Si  18.181818\n",
       "4         Al  18.181818\n",
       "5         Cr   0.000000\n",
       "6         Mo   0.000000\n",
       "7         Nb   0.000000\n",
       "8         Ti   0.000000\n",
       "9          C   0.000000\n",
       "10         V   0.000000\n",
       "11        Zr   0.000000\n",
       "12        Mn   0.000000\n",
       "13        Cu   0.000000\n",
       "14         B   0.000000\n",
       "15         Y   0.000000\n",
       "16        Sn   0.000000\n",
       "17        Li   0.000000\n",
       "18        Mg   0.000000\n",
       "19        Zn   0.000000\n",
       "20        Sc   0.000000\n",
       "21        Hf   0.000000\n",
       "22        Ta   0.000000\n",
       "23         W   0.000000"
      ]
     },
     "execution_count": 103,
     "metadata": {},
     "output_type": "execute_result"
    }
   ],
   "source": [
    "comp_df = pd.DataFrame({\"Elementos\": elementos, \"Comp\": 100*input_[7:]/np.sum(input_[7:])})\n",
    "comp_df"
   ]
  },
  {
   "cell_type": "code",
   "execution_count": null,
   "id": "0e8515ed-b764-4508-94b6-63e743cdaf1d",
   "metadata": {},
   "outputs": [],
   "source": []
  }
 ],
 "metadata": {
  "kernelspec": {
   "display_name": "Python 3",
   "language": "python",
   "name": "python3"
  },
  "language_info": {
   "codemirror_mode": {
    "name": "ipython",
    "version": 3
   },
   "file_extension": ".py",
   "mimetype": "text/x-python",
   "name": "python",
   "nbconvert_exporter": "python",
   "pygments_lexer": "ipython3",
   "version": "3.8.8"
  }
 },
 "nbformat": 4,
 "nbformat_minor": 5
}
