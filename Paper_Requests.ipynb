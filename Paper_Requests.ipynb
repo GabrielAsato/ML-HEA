{
 "cells": [
  {
   "cell_type": "markdown",
   "metadata": {},
   "source": [
    "### Request library - OpenAlex API\n",
    "- Ordena uma lista de 100 papers relevantes à query buscada de acordo com um score (em ordem descendente)\n",
    "- O score é o Relevant Score:\n",
    "\n",
    "The **relevance_score** is based on text similarity to your search term. It also includes a weighting term for citation counts: more highly-cited entities score higher, all else being equal. If you search for a multiple-word phrase, the algorithm will treat each word separately, and rank results higher when the words appear close together. If you want to return only results where the exact phrase is used, just enclose your phrase within quotes [1].\n",
    "\n",
    "References\n",
    "[1] https://docs.openalex.org/how-to-use-the-api/get-lists-of-entities/search-entities"
   ]
  },
  {
   "cell_type": "code",
   "execution_count": 5,
   "metadata": {},
   "outputs": [
    {
     "name": "stdout",
     "output_type": "stream",
     "text": [
      "https://api.openalex.org/works?page=1&filter=default.search:\"high entropy alloys\" AND \"soft magnetics\" AND (NOT ceramics)&per_page=100\n",
      "\n"
     ]
    }
   ],
   "source": [
    "import pandas as pd\n",
    "import requests\n",
    "'''\n",
    "Uma maneira de obter artigos mais relevantes para uma determinada query\n",
    "'''\n",
    "# Query para tópicos dos artigos\n",
    "query = input(\"Escreva uma query com os critérios relevantes usando a sintaxe booleana\")\n",
    "#n_papers = input(\"Escreva o número de papers\")\n",
    "# URL da API\n",
    "#url = 'https://api.openalex.org/works?page=1&filter=default.search:%22high+entropy+alloys%22+AND+%22soft+magnetics%22+AND+(NOT+ceramics)'\n",
    "url = 'https://api.openalex.org/works?page=1&filter=default.search:'+query+'&per_page=100'\n",
    "\n",
    "# Fazendo a requisição GET - Obtém o código da requisição\n",
    "response = requests.get(url)\n",
    "\n",
    "# Verificando se a requisição foi bem-sucedida\n",
    "if response.status_code == 200:\n",
    "    # Convertendo a resposta para JSON - Obtém dados em json \n",
    "    data = response.json()\n",
    "    \n",
    "    # Armazenamento dos dados em listas\n",
    "    titles, dois, scores = [], [], []\n",
    "\n",
    "    # Iterando sobre os resultados\n",
    "    for work in data.get('results', 0): # dentro do json, a lista 'results' (lista de papers)\n",
    "        title = work.get('title')\n",
    "        doi = work.get('doi')\n",
    "        year = work.get('publication_year')\n",
    "        cite = work.get('cited_by_count')\n",
    "        score = work.get('relevance_score') # maior score, mais relevante o artigo para a query buscada\n",
    "        # print(f'Título: {title}\\nDOI: {doi}\\nScore: {score}')\n",
    "        titles.append(title)\n",
    "        dois.append(doi)\n",
    "        scores.append(score)\n",
    "\n",
    "    papers = {'title': titles, 'doi': dois, 'score': scores}\n",
    "else:\n",
    "    print(\"Erro na requisição:\", response.status_code)\n",
    "print(url)\n",
    "print()\n",
    "df = pd.DataFrame(papers)\n",
    "df\n",
    "\n",
    "# save in .csv\n",
    "df.to_csv(f\"Relevant papers.csv\", index=False, sep='@')"
   ]
  },
  {
   "cell_type": "markdown",
   "metadata": {},
   "source": [
    "### Próximos passos: \n",
    "    - Criar um módulo em .py e puxar com uma função."
   ]
  }
 ],
 "metadata": {
  "kernelspec": {
   "display_name": "Python 3",
   "language": "python",
   "name": "python3"
  },
  "language_info": {
   "codemirror_mode": {
    "name": "ipython",
    "version": 3
   },
   "file_extension": ".py",
   "mimetype": "text/x-python",
   "name": "python",
   "nbconvert_exporter": "python",
   "pygments_lexer": "ipython3",
   "version": "3.9.7"
  }
 },
 "nbformat": 4,
 "nbformat_minor": 2
}
